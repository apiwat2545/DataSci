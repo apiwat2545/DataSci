{
  "cells": [
    {
      "cell_type": "markdown",
      "metadata": {
        "id": "msF8U-hBwTpW"
      },
      "source": [
        "# Assignment: Extracting Static WebPage\n",
        "\n",
        "Extract information about “วันพระ” for 3 years from:\n",
        "- https://www.myhora.com/ปฏิทิน/วันพระ-พ.ศ.2565.aspx\n",
        "- https://www.myhora.com/ปฏิทิน/วันพระ-พ.ศ.2566.aspx\n",
        "- https://www.myhora.com/ปฏิทิน/วันพระ-พ.ศ.2567.aspx\n"
      ]
    },
    {
      "cell_type": "markdown",
      "metadata": {
        "id": "UuGQvejPwTpb"
      },
      "source": [
        "Note that you can use dateparse package to parse Thai date.  First, we will have to install the package, this is for Google Colab users.  Otherwise, installing via command line is recommended (pip or conda)."
      ]
    },
    {
      "cell_type": "code",
      "execution_count": null,
      "metadata": {
        "scrolled": true,
        "id": "75zMeTMIwTpd",
        "colab": {
          "base_uri": "https://localhost:8080/"
        },
        "outputId": "9a06b797-0f24-4e3b-8666-d8bf4322a3ee"
      },
      "outputs": [
        {
          "output_type": "stream",
          "name": "stdout",
          "text": [
            "Collecting dateparser\n",
            "  Downloading dateparser-1.2.0-py2.py3-none-any.whl (294 kB)\n",
            "\u001b[?25l     \u001b[90m━━━━━━━━━━━━━━━━━━━━━━━━━━━━━━━━━━━━━━━━\u001b[0m \u001b[32m0.0/295.0 kB\u001b[0m \u001b[31m?\u001b[0m eta \u001b[36m-:--:--\u001b[0m\r\u001b[2K     \u001b[91m━━━━━━━━━━━━━━━━\u001b[0m\u001b[91m╸\u001b[0m\u001b[90m━━━━━━━━━━━━━━━━━━━━━━━\u001b[0m \u001b[32m122.9/295.0 kB\u001b[0m \u001b[31m3.4 MB/s\u001b[0m eta \u001b[36m0:00:01\u001b[0m\r\u001b[2K     \u001b[90m━━━━━━━━━━━━━━━━━━━━━━━━━━━━━━━━━━━━━━━━\u001b[0m \u001b[32m295.0/295.0 kB\u001b[0m \u001b[31m5.6 MB/s\u001b[0m eta \u001b[36m0:00:00\u001b[0m\n",
            "\u001b[?25hRequirement already satisfied: python-dateutil in /usr/local/lib/python3.10/dist-packages (from dateparser) (2.8.2)\n",
            "Requirement already satisfied: pytz in /usr/local/lib/python3.10/dist-packages (from dateparser) (2023.4)\n",
            "Requirement already satisfied: regex!=2019.02.19,!=2021.8.27 in /usr/local/lib/python3.10/dist-packages (from dateparser) (2023.12.25)\n",
            "Requirement already satisfied: tzlocal in /usr/local/lib/python3.10/dist-packages (from dateparser) (5.2)\n",
            "Requirement already satisfied: six>=1.5 in /usr/local/lib/python3.10/dist-packages (from python-dateutil->dateparser) (1.16.0)\n",
            "Installing collected packages: dateparser\n",
            "Successfully installed dateparser-1.2.0\n"
          ]
        }
      ],
      "source": [
        "import sys\n",
        "IN_COLAB = 'google.colab' in sys.modules\n",
        "if IN_COLAB:\n",
        "    %pip install dateparser"
      ]
    },
    {
      "cell_type": "code",
      "execution_count": null,
      "metadata": {
        "id": "FDuVAsBjwTpf"
      },
      "outputs": [],
      "source": [
        "import dateparser"
      ]
    },
    {
      "cell_type": "markdown",
      "metadata": {
        "id": "N8503WigwTpg"
      },
      "source": [
        "To convert from thai text date string, we will use the parse method.  Note that the parse method assumes the BC year, not BE.  Thus, we will have to subtract 543 from the year.  In addition, weekday() returns day of week with 0=Monday, ..., 6=Sunday."
      ]
    },
    {
      "cell_type": "code",
      "execution_count": null,
      "metadata": {
        "id": "K2KGAy1pwTpg",
        "colab": {
          "base_uri": "https://localhost:8080/"
        },
        "outputId": "94673421-cb39-4c3f-cf78-c036df1531bb"
      },
      "outputs": [
        {
          "output_type": "stream",
          "name": "stdout",
          "text": [
            "2563-01-17 00:00:00\n",
            "0\n",
            "2020-01-17 00:00:00\n",
            "4\n"
          ]
        }
      ],
      "source": [
        "dt = dateparser.parse('วันศุกร์ที่ 17 มกราคม 2563')\n",
        "\n",
        "# this will print out weekday == 0 (Monday)\n",
        "print(dt)\n",
        "print(dt.weekday()) # day of week\n",
        "\n",
        "# this will print out weekday == 4 (Friday)\n",
        "dt = dt.replace(year=dt.year-543) # to BE so can return true day of week\n",
        "print(dt)\n",
        "print(dt.weekday())"
      ]
    },
    {
      "cell_type": "code",
      "execution_count": null,
      "metadata": {
        "id": "BCwAj26LwTph",
        "colab": {
          "base_uri": "https://localhost:8080/"
        },
        "outputId": "f2dbb79d-777a-4231-965f-13351859978d"
      },
      "outputs": [
        {
          "output_type": "stream",
          "name": "stdout",
          "text": [
            "2021-09-21 00:00:00\n",
            "1\n"
          ]
        }
      ],
      "source": [
        "dt = dateparser.parse('วันเสาร์ที่ 21 กันยายน 2564')\n",
        "#dt = dateparser.parse('วันอาทิตย์ที่ 22 กันยายน 2564')\n",
        "dt = dt.replace(year=dt.year-543)\n",
        "print(dt)\n",
        "print(dt.weekday())"
      ]
    },
    {
      "cell_type": "markdown",
      "metadata": {
        "id": "5GD7ZEsNwTpi"
      },
      "source": [
        "Count the distribution of number of week days that are “วันพระ” for all three years and answer the following questions:"
      ]
    },
    {
      "cell_type": "code",
      "source": [
        "import requests\n",
        "import re\n",
        "from bs4 import BeautifulSoup"
      ],
      "metadata": {
        "id": "d7yQW1mBZRm9"
      },
      "execution_count": null,
      "outputs": []
    },
    {
      "cell_type": "code",
      "source": [
        "bigdata2565 = requests.get('https://www.myhora.com/%E0%B8%9B%E0%B8%8F%E0%B8%B4%E0%B8%97%E0%B8%B4%E0%B8%99/%E0%B8%A7%E0%B8%B1%E0%B8%99%E0%B8%9E%E0%B8%A3%E0%B8%B0-%E0%B8%9E.%E0%B8%A8.2565.aspx')\n",
        "bigdata2566 = requests.get('https://www.myhora.com/%E0%B8%9B%E0%B8%8F%E0%B8%B4%E0%B8%97%E0%B8%B4%E0%B8%99/%E0%B8%A7%E0%B8%B1%E0%B8%99%E0%B8%9E%E0%B8%A3%E0%B8%B0-%E0%B8%9E.%E0%B8%A8.2566.aspx')\n",
        "bigdata2567 = requests.get('https://www.myhora.com/%E0%B8%9B%E0%B8%8F%E0%B8%B4%E0%B8%97%E0%B8%B4%E0%B8%99/%E0%B8%A7%E0%B8%B1%E0%B8%99%E0%B8%9E%E0%B8%A3%E0%B8%B0-%E0%B8%9E.%E0%B8%A8.2567.aspx')\n"
      ],
      "metadata": {
        "id": "dp7J0OoGZZZo"
      },
      "execution_count": null,
      "outputs": []
    },
    {
      "cell_type": "code",
      "source": [
        "soup2565 = BeautifulSoup(bigdata2565.text, \"lxml\")\n",
        "soup2566 = BeautifulSoup(bigdata2566.text, \"lxml\")\n",
        "soup2567 = BeautifulSoup(bigdata2567.text, \"lxml\")\n",
        "#print(soup2565.prettify())"
      ],
      "metadata": {
        "id": "ZCqXDxvmcGok"
      },
      "execution_count": null,
      "outputs": []
    },
    {
      "cell_type": "markdown",
      "metadata": {
        "id": "3h1Eb7nCwTpj"
      },
      "source": [
        "## How many วันพระ in total (of 3 years)?"
      ]
    },
    {
      "cell_type": "code",
      "source": [
        "bud_days2565 = len(soup2565.find_all(class_=\"bud-day\"))\n",
        "bud_days2566 = len(soup2566.find_all(class_=\"bud-day\"))\n",
        "bud_days2567 = len(soup2567.find_all(class_=\"bud-day\"))\n",
        "total = bud_days2565+bud_days2566+bud_days2567\n",
        "print(total)"
      ],
      "metadata": {
        "colab": {
          "base_uri": "https://localhost:8080/"
        },
        "id": "K49iaiYeHui7",
        "outputId": "7d7ac9f4-4627-4882-8516-63750861db97"
      },
      "execution_count": null,
      "outputs": [
        {
          "output_type": "stream",
          "name": "stdout",
          "text": [
            "152\n"
          ]
        }
      ]
    },
    {
      "cell_type": "markdown",
      "metadata": {
        "id": "iOhDAJrWwTpj"
      },
      "source": [
        "## How many days in total (of 3 years) that วันพระ is Monday?"
      ]
    },
    {
      "cell_type": "code",
      "execution_count": null,
      "metadata": {
        "id": "8ikhiAO8wTpk",
        "colab": {
          "base_uri": "https://localhost:8080/"
        },
        "outputId": "c87721b4-c4d4-4986-f03c-83f4e4c034c9"
      },
      "outputs": [
        {
          "output_type": "stream",
          "name": "stdout",
          "text": [
            "21\n"
          ]
        }
      ],
      "source": [
        "# Find all div elements with class \"bud-day\"\n",
        "bud_days2565 = soup2565.find_all(class_=\"bud-day\")\n",
        "bud_days2566 = soup2566.find_all(class_=\"bud-day\")\n",
        "bud_days2567 = soup2567.find_all(class_=\"bud-day\")\n",
        "bud_days = bud_days2565+bud_days2566+bud_days2567\n",
        "#print(bud_days)\n",
        "monday_count=0\n",
        "# Iterate over each bud-day div\n",
        "for bud_day in bud_days:\n",
        "    # Find the second div with class \"bud-day-col\" within this bud-day div and get its text\n",
        "    desired_text = bud_day.find_all(class_=\"bud-day-col\")[0].text.strip()\n",
        "    dt = dateparser.parse(desired_text)\n",
        "    dt = dt.replace(year=dt.year-543)\n",
        "    if dt.weekday()==0:\n",
        "      monday_count+=1\n",
        "      #print(desired_text)\n",
        "      #print(dt)\n",
        "      #print(dt.weekday())\n",
        "print(monday_count)"
      ]
    },
    {
      "cell_type": "markdown",
      "metadata": {
        "id": "SzDLC7oQwTpk"
      },
      "source": [
        "## Which day of the week that has the minimum number of วันพระ?"
      ]
    },
    {
      "cell_type": "code",
      "execution_count": null,
      "metadata": {
        "id": "XcAzrZRuwTpk",
        "colab": {
          "base_uri": "https://localhost:8080/"
        },
        "outputId": "7e061d97-52a2-4aa5-c6f3-98a1771cb2eb"
      },
      "outputs": [
        {
          "output_type": "stream",
          "name": "stdout",
          "text": [
            "[21, 20, 22, 23, 21, 21, 24]\n",
            "1\n"
          ]
        }
      ],
      "source": [
        "day_in_week = [0,0,0,0,0,0,0]\n",
        "# Iterate over each bud-day div\n",
        "for bud_day in bud_days:\n",
        "    # Find the second div with class \"bud-day-col\" within this bud-day div and get its text\n",
        "    desired_text = bud_day.find_all(class_=\"bud-day-col\")[0].text.strip()\n",
        "    dt = dateparser.parse(desired_text)\n",
        "    dt = dt.replace(year=dt.year-543)\n",
        "    day_in_week[dt.weekday()]+=1\n",
        "\n",
        "print(day_in_week)\n",
        "min_index = day_in_week.index(min(day_in_week))\n",
        "print(min_index)"
      ]
    },
    {
      "cell_type": "markdown",
      "metadata": {
        "id": "nMM6uUYMwTpk"
      },
      "source": [
        "## Which day of the week that has the maximum number of วันพระ?"
      ]
    },
    {
      "cell_type": "code",
      "execution_count": null,
      "metadata": {
        "id": "NoiXqK1swTpl",
        "colab": {
          "base_uri": "https://localhost:8080/"
        },
        "outputId": "d0b7f0c7-f4bd-493d-f115-a7b95cf7c5d6"
      },
      "outputs": [
        {
          "output_type": "stream",
          "name": "stdout",
          "text": [
            "6\n"
          ]
        }
      ],
      "source": [
        "max_index = day_in_week.index(max(day_in_week))\n",
        "print(max_index)"
      ]
    }
  ],
  "metadata": {
    "kernelspec": {
      "display_name": "Python 3 (ipykernel)",
      "language": "python",
      "name": "python3"
    },
    "language_info": {
      "codemirror_mode": {
        "name": "ipython",
        "version": 3
      },
      "file_extension": ".py",
      "mimetype": "text/x-python",
      "name": "python",
      "nbconvert_exporter": "python",
      "pygments_lexer": "ipython3",
      "version": "3.11.4"
    },
    "toc": {
      "base_numbering": 1,
      "nav_menu": {},
      "number_sections": true,
      "sideBar": true,
      "skip_h1_title": false,
      "title_cell": "Table of Contents",
      "title_sidebar": "Contents",
      "toc_cell": false,
      "toc_position": {},
      "toc_section_display": true,
      "toc_window_display": false
    },
    "varInspector": {
      "cols": {
        "lenName": 16,
        "lenType": 16,
        "lenVar": 40
      },
      "kernels_config": {
        "python": {
          "delete_cmd_postfix": "",
          "delete_cmd_prefix": "del ",
          "library": "var_list.py",
          "varRefreshCmd": "print(var_dic_list())"
        },
        "r": {
          "delete_cmd_postfix": ") ",
          "delete_cmd_prefix": "rm(",
          "library": "var_list.r",
          "varRefreshCmd": "cat(var_dic_list()) "
        }
      },
      "types_to_exclude": [
        "module",
        "function",
        "builtin_function_or_method",
        "instance",
        "_Feature"
      ],
      "window_display": false
    },
    "colab": {
      "provenance": []
    }
  },
  "nbformat": 4,
  "nbformat_minor": 0
}