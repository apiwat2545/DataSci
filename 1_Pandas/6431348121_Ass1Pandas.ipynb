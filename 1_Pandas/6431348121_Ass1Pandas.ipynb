{
  "cells": [
    {
      "cell_type": "markdown",
      "metadata": {
        "id": "OIom1X-v0TGc"
      },
      "source": [
        "# Assignment - Basic Pandas\n",
        "<sup>Created by Natawut Nupairoj, Department of Computer Engineering, Chulalongkorn University</sup>\n",
        "\n",
        "Using pandas to explore youtube trending data from GB (GBvideos.csv and GB_category_id.json) and answer the questions."
      ]
    },
    {
      "cell_type": "code",
      "execution_count": null,
      "metadata": {
        "id": "_ooeQeBn0TGf"
      },
      "outputs": [],
      "source": [
        "import pandas as pd\n",
        "import numpy as np"
      ]
    },
    {
      "cell_type": "markdown",
      "metadata": {
        "id": "RNyAGpWT0TGh"
      },
      "source": [
        "To simplify data retrieval process on Colab, we heck if we are in the Colab environment and download data files from a shared drive and save them in folder \"data\".\n",
        "\n",
        "For those using jupyter notebook on the local computer, you can read data directly assuming you save data in the folder \"data\"."
      ]
    },
    {
      "cell_type": "code",
      "execution_count": null,
      "metadata": {
        "colab": {
          "base_uri": "https://localhost:8080/"
        },
        "id": "qro_9JWV0TGi",
        "outputId": "dedc9235-1b0d-49ab-d66c-a69415e67926"
      },
      "outputs": [
        {
          "output_type": "stream",
          "name": "stdout",
          "text": [
            "--2024-02-28 06:15:24--  https://github.com/kaopanboonyuen/2110446_DataScience_2021s2/raw/main/datasets/data.tgz\n",
            "Resolving github.com (github.com)... 140.82.113.4\n",
            "Connecting to github.com (github.com)|140.82.113.4|:443... connected.\n",
            "HTTP request sent, awaiting response... 302 Found\n",
            "Location: https://raw.githubusercontent.com/kaopanboonyuen/2110446_DataScience_2021s2/main/datasets/data.tgz [following]\n",
            "--2024-02-28 06:15:24--  https://raw.githubusercontent.com/kaopanboonyuen/2110446_DataScience_2021s2/main/datasets/data.tgz\n",
            "Resolving raw.githubusercontent.com (raw.githubusercontent.com)... 185.199.108.133, 185.199.109.133, 185.199.110.133, ...\n",
            "Connecting to raw.githubusercontent.com (raw.githubusercontent.com)|185.199.108.133|:443... connected.\n",
            "HTTP request sent, awaiting response... 200 OK\n",
            "Length: 45477462 (43M) [application/octet-stream]\n",
            "Saving to: ‘data.tgz’\n",
            "\n",
            "data.tgz            100%[===================>]  43.37M   174MB/s    in 0.2s    \n",
            "\n",
            "2024-02-28 06:15:25 (174 MB/s) - ‘data.tgz’ saved [45477462/45477462]\n",
            "\n",
            "data/\n",
            "data/._GB_category_id.json\n",
            "data/GB_category_id.json\n",
            "data/._US_category_id.json\n",
            "data/US_category_id.json\n",
            "data/._USvideos.csv\n",
            "data/USvideos.csv\n",
            "data/._GBvideos.csv\n",
            "data/GBvideos.csv\n"
          ]
        }
      ],
      "source": [
        "import sys\n",
        "IN_COLAB = 'google.colab' in sys.modules\n",
        "if IN_COLAB:\n",
        "    !wget https://github.com/kaopanboonyuen/2110446_DataScience_2021s2/raw/main/datasets/data.tgz -O data.tgz\n",
        "    !tar -xzvf data.tgz"
      ]
    },
    {
      "cell_type": "markdown",
      "metadata": {
        "id": "rkNi2LHT0TGj"
      },
      "source": [
        "## How many rows are there in the GBvideos.csv after removing duplications?"
      ]
    },
    {
      "cell_type": "code",
      "execution_count": null,
      "metadata": {
        "id": "PFzYyW7V0TGj",
        "colab": {
          "base_uri": "https://localhost:8080/"
        },
        "outputId": "39554913-4646-4117-a9f0-55eab68af4ad"
      },
      "outputs": [
        {
          "output_type": "stream",
          "name": "stdout",
          "text": [
            "          video_id trending_date  \\\n",
            "0      Jw1Y-zhQURU      17.14.11   \n",
            "1      3s1rvMFUweQ      17.14.11   \n",
            "2      n1WpP7iowLc      17.14.11   \n",
            "3      PUTEiSjKwJU      17.14.11   \n",
            "4      rHwDegptbI4      17.14.11   \n",
            "...            ...           ...   \n",
            "38911  l884wKofd54      18.14.06   \n",
            "38912  IP8k2xkhOdI      18.14.06   \n",
            "38913  Il-an3K9pjg      18.14.06   \n",
            "38914  -DRsfNObKIQ      18.14.06   \n",
            "38915  4YFo4bdMO8Q      18.14.06   \n",
            "\n",
            "                                                   title  \\\n",
            "0          John Lewis Christmas Ad 2017 - #MozTheMonster   \n",
            "1              Taylor Swift: …Ready for It? (Live) - SNL   \n",
            "2             Eminem - Walk On Water (Audio) ft. Beyoncé   \n",
            "3      Goals from Salford City vs Class of 92 and Fri...   \n",
            "4      Dashcam captures truck's near miss with child ...   \n",
            "...                                                  ...   \n",
            "38911  Enrique Iglesias - MOVE TO MIAMI (Official Vid...   \n",
            "38912  Jacob Sartorius - Up With It (Official Music V...   \n",
            "38913                 Anne-Marie - 2002 [Official Video]   \n",
            "38914  Eleni Foureira - Fuego - Cyprus - LIVE - First...   \n",
            "38915  KYLE - Ikuyo feat.  2 Chainz & Sophia Black [A...   \n",
            "\n",
            "                    channel_title  category_id              publish_time  \\\n",
            "0                      John Lewis           26  2017-11-10T07:38:29.000Z   \n",
            "1             Saturday Night Live           24  2017-11-12T06:24:44.000Z   \n",
            "2                      EminemVEVO           10  2017-11-10T17:00:03.000Z   \n",
            "3      Salford City Football Club           17  2017-11-13T02:30:38.000Z   \n",
            "4                Cute Girl Videos           25  2017-11-13T01:45:13.000Z   \n",
            "...                           ...          ...                       ...   \n",
            "38911         EnriqueIglesiasVEVO           10  2018-05-09T07:00:01.000Z   \n",
            "38912             Jacob Sartorius           10  2018-05-11T17:09:16.000Z   \n",
            "38913                  Anne-Marie           10  2018-05-08T11:05:08.000Z   \n",
            "38914     Eurovision Song Contest           24  2018-05-08T20:32:32.000Z   \n",
            "38915              SuperDuperKyle           10  2018-05-11T04:06:35.000Z   \n",
            "\n",
            "                                                    tags     views   likes  \\\n",
            "0      christmas|\"john lewis christmas\"|\"john lewis\"|...   7224515   55681   \n",
            "1      SNL|\"Saturday Night Live\"|\"SNL Season 43\"|\"Epi...   1053632   25561   \n",
            "2      Eminem|\"Walk\"|\"On\"|\"Water\"|\"Aftermath/Shady/In...  17158579  787420   \n",
            "3      Salford City FC|\"Salford City\"|\"Salford\"|\"Clas...     27833     193   \n",
            "4                                                 [none]      9815      30   \n",
            "...                                                  ...       ...     ...   \n",
            "38911  Enrique Iglesias feat. Pitbull|\"MOVE TO MIAMI\"...  25066952  268088   \n",
            "38912  jacob sartorius|\"jacob\"|\"up with it\"|\"jacob sa...   1492219   61998   \n",
            "38913  anne|\"marie\"|\"anne-marie\"|\"2002\"|\"two thousand...  29641412  394830   \n",
            "38914  Eurovision Song Contest|\"2018\"|\"Lisbon\"|\"Cypru...  14317515  151870   \n",
            "38915  Kyle|\"SuperDuperKyle\"|\"Ikuyo\"|\"2 Chainz\"|\"Soph...    607552   18271   \n",
            "\n",
            "       dislikes  comment_count  \\\n",
            "0         10247           9479   \n",
            "1          2294           2757   \n",
            "2         43420         125882   \n",
            "3            12             37   \n",
            "4             2             30   \n",
            "...         ...            ...   \n",
            "38911     12783           9933   \n",
            "38912     13781          24330   \n",
            "38913      8892          19988   \n",
            "38914     45875          26766   \n",
            "38915       274           1423   \n",
            "\n",
            "                                       thumbnail_link  comments_disabled  \\\n",
            "0      https://i.ytimg.com/vi/Jw1Y-zhQURU/default.jpg              False   \n",
            "1      https://i.ytimg.com/vi/3s1rvMFUweQ/default.jpg              False   \n",
            "2      https://i.ytimg.com/vi/n1WpP7iowLc/default.jpg              False   \n",
            "3      https://i.ytimg.com/vi/PUTEiSjKwJU/default.jpg              False   \n",
            "4      https://i.ytimg.com/vi/rHwDegptbI4/default.jpg              False   \n",
            "...                                               ...                ...   \n",
            "38911  https://i.ytimg.com/vi/l884wKofd54/default.jpg              False   \n",
            "38912  https://i.ytimg.com/vi/IP8k2xkhOdI/default.jpg              False   \n",
            "38913  https://i.ytimg.com/vi/Il-an3K9pjg/default.jpg              False   \n",
            "38914  https://i.ytimg.com/vi/-DRsfNObKIQ/default.jpg              False   \n",
            "38915  https://i.ytimg.com/vi/4YFo4bdMO8Q/default.jpg              False   \n",
            "\n",
            "       ratings_disabled  video_error_or_removed  \\\n",
            "0                 False                   False   \n",
            "1                 False                   False   \n",
            "2                 False                   False   \n",
            "3                 False                   False   \n",
            "4                 False                   False   \n",
            "...                 ...                     ...   \n",
            "38911             False                   False   \n",
            "38912             False                   False   \n",
            "38913             False                   False   \n",
            "38914             False                   False   \n",
            "38915             False                   False   \n",
            "\n",
            "                                             description  \n",
            "0      Click here to continue the story and make your...  \n",
            "1      Musical guest Taylor Swift performs …Ready for...  \n",
            "2      Eminem's new track Walk on Water ft. Beyoncé i...  \n",
            "3      Salford drew 4-4 against the Class of 92 and F...  \n",
            "4      Dashcam captures truck's near miss with child ...  \n",
            "...                                                  ...  \n",
            "38911  NEW SONG - MOVE TO MIAMI feat. Pitbull (Click ...  \n",
            "38912  THE OFFICIAL UP WITH IT MUSIC VIDEO!Get my new...  \n",
            "38913  Get 2002 by Anne-Marie HERE ▶ http://ad.gt/200...  \n",
            "38914  Eleni Foureira represented Cyprus at the first...  \n",
            "38915  Debut album 'Light of Mine' out now: http://ky...  \n",
            "\n",
            "[38745 rows x 16 columns]\n"
          ]
        },
        {
          "output_type": "execute_result",
          "data": {
            "text/plain": [
              "Index(['video_id', 'trending_date', 'title', 'channel_title', 'category_id',\n",
              "       'publish_time', 'tags', 'views', 'likes', 'dislikes', 'comment_count',\n",
              "       'thumbnail_link', 'comments_disabled', 'ratings_disabled',\n",
              "       'video_error_or_removed', 'description'],\n",
              "      dtype='object')"
            ]
          },
          "metadata": {},
          "execution_count": 3
        }
      ],
      "source": [
        "gb_vdo_df = pd.read_csv('data/GBvideos.csv')\n",
        "type(gb_vdo_df)\n",
        "\n",
        "\n",
        "#gb_vdo_df.shape # before (38916, 16)\n",
        "gb_vdo_df.drop_duplicates(inplace=True) # inplace= True แก้ในตารางตรงๆเลย\n",
        "gb_vdo_df.shape # after\n",
        "print(gb_vdo_df)\n",
        "gb_vdo_df.columns\n"
      ]
    },
    {
      "cell_type": "markdown",
      "metadata": {
        "id": "mSc2U7HJ0TGk"
      },
      "source": [
        "## How many VDO's that contain at least one record (row) of \"dislikes\" more than \"likes\"?  <font color=red>DO NOT group by the data and make sure that you count only unique title!</font>"
      ]
    },
    {
      "cell_type": "code",
      "execution_count": null,
      "metadata": {
        "id": "Q0NF1dI40TGk",
        "colab": {
          "base_uri": "https://localhost:8080/"
        },
        "outputId": "5d2b3778-6a24-4a62-b37a-40081cb8b309"
      },
      "outputs": [
        {
          "output_type": "stream",
          "name": "stdout",
          "text": [
            "          video_id trending_date  \\\n",
            "91     _wM_jY_rass      17.14.11   \n",
            "110    l9nGCJlDclQ      17.14.11   \n",
            "161    S0A4hBJHND4      17.14.11   \n",
            "309    _wM_jY_rass      17.15.11   \n",
            "327    l9nGCJlDclQ      17.15.11   \n",
            "...            ...           ...   \n",
            "38517  Ut7e-0X8lds      18.12.06   \n",
            "38590  DVWxQvlgRrM      18.13.06   \n",
            "38693  Ut7e-0X8lds      18.13.06   \n",
            "38765  DVWxQvlgRrM      18.14.06   \n",
            "38863  Ut7e-0X8lds      18.14.06   \n",
            "\n",
            "                                                   title  \\\n",
            "91                                     Bone on Labour HQ   \n",
            "110    After Show: Did Kate Hudson Date Brad Pitt? | ...   \n",
            "161    Svjetska ekskluziva: Provala u stan Dejana Lov...   \n",
            "309                                    Bone on Labour HQ   \n",
            "327    After Show: Did Kate Hudson Date Brad Pitt? | ...   \n",
            "...                                                  ...   \n",
            "38517  30-year-old evicted from parents' home speaks ...   \n",
            "38590     Robert De Niro - F--- Trump - 2018 Tony Awards   \n",
            "38693  30-year-old evicted from parents' home speaks ...   \n",
            "38765     Robert De Niro - F--- Trump - 2018 Tony Awards   \n",
            "38863  30-year-old evicted from parents' home speaks ...   \n",
            "\n",
            "                                 channel_title  category_id  \\\n",
            "91                               Ross Kempsell           25   \n",
            "110    Watch What Happens Live with Andy Cohen           24   \n",
            "161                              Jutarnji list           24   \n",
            "309                              Ross Kempsell           25   \n",
            "327    Watch What Happens Live with Andy Cohen           24   \n",
            "...                                        ...          ...   \n",
            "38517                                      CNN           25   \n",
            "38590                                  Variety           24   \n",
            "38693                                      CNN           25   \n",
            "38765                                  Variety           24   \n",
            "38863                                      CNN           25   \n",
            "\n",
            "                   publish_time  \\\n",
            "91     2017-11-06T16:12:58.000Z   \n",
            "110    2017-11-08T17:00:01.000Z   \n",
            "161    2017-11-03T12:30:24.000Z   \n",
            "309    2017-11-06T16:12:58.000Z   \n",
            "327    2017-11-08T17:00:01.000Z   \n",
            "...                         ...   \n",
            "38517  2018-05-23T21:15:59.000Z   \n",
            "38590  2018-06-11T03:01:32.000Z   \n",
            "38693  2018-05-23T21:15:59.000Z   \n",
            "38765  2018-06-11T03:01:32.000Z   \n",
            "38863  2018-05-23T21:15:59.000Z   \n",
            "\n",
            "                                                    tags    views  likes  \\\n",
            "91                                                [none]   159065   1160   \n",
            "110    What What Happens live|\"reality\"|\"interview\"|\"...    53253    184   \n",
            "161                                               [none]    83794     83   \n",
            "309                                               [none]   160381   1168   \n",
            "327    What What Happens live|\"reality\"|\"interview\"|\"...    54374    186   \n",
            "...                                                  ...      ...    ...   \n",
            "38517  latest News|\"Happening Now\"|\"CNN\"|\"US\"|\"Newsro...  2823175   8402   \n",
            "38590                           Variety|\"Variety Studio\"   453086   2899   \n",
            "38693  latest News|\"Happening Now\"|\"CNN\"|\"US\"|\"Newsro...  2828962   8413   \n",
            "38765                           Variety|\"Variety Studio\"   511990   3117   \n",
            "38863  latest News|\"Happening Now\"|\"CNN\"|\"US\"|\"Newsro...  2834549   8422   \n",
            "\n",
            "       dislikes  comment_count  \\\n",
            "91         1164              0   \n",
            "110         187             83   \n",
            "161         108             74   \n",
            "309        1170              0   \n",
            "327         190             83   \n",
            "...         ...            ...   \n",
            "38517      9091          29799   \n",
            "38590      3837           4404   \n",
            "38693      9100          29870   \n",
            "38765      4394           4828   \n",
            "38863      9114          29896   \n",
            "\n",
            "                                       thumbnail_link  comments_disabled  \\\n",
            "91     https://i.ytimg.com/vi/_wM_jY_rass/default.jpg               True   \n",
            "110    https://i.ytimg.com/vi/l9nGCJlDclQ/default.jpg              False   \n",
            "161    https://i.ytimg.com/vi/S0A4hBJHND4/default.jpg              False   \n",
            "309    https://i.ytimg.com/vi/_wM_jY_rass/default.jpg               True   \n",
            "327    https://i.ytimg.com/vi/l9nGCJlDclQ/default.jpg              False   \n",
            "...                                               ...                ...   \n",
            "38517  https://i.ytimg.com/vi/Ut7e-0X8lds/default.jpg              False   \n",
            "38590  https://i.ytimg.com/vi/DVWxQvlgRrM/default.jpg              False   \n",
            "38693  https://i.ytimg.com/vi/Ut7e-0X8lds/default.jpg              False   \n",
            "38765  https://i.ytimg.com/vi/DVWxQvlgRrM/default.jpg              False   \n",
            "38863  https://i.ytimg.com/vi/Ut7e-0X8lds/default.jpg              False   \n",
            "\n",
            "       ratings_disabled  video_error_or_removed  \\\n",
            "91                False                   False   \n",
            "110               False                   False   \n",
            "161               False                   False   \n",
            "309               False                   False   \n",
            "327               False                   False   \n",
            "...                 ...                     ...   \n",
            "38517             False                   False   \n",
            "38590             False                   False   \n",
            "38693             False                   False   \n",
            "38765             False                   False   \n",
            "38863             False                   False   \n",
            "\n",
            "                                             description  \n",
            "91                                                   NaN  \n",
            "110    During the After Show, Andy Cohen asks actress...  \n",
            "161    Lopovi batovima demolirali vrata hrvatskom rep...  \n",
            "309                                                  NaN  \n",
            "327    During the After Show, Andy Cohen asks actress...  \n",
            "...                                                  ...  \n",
            "38517  A judge ruled in favor of parents who wanted t...  \n",
            "38590  Robert De Niro only needed two words to introd...  \n",
            "38693  A judge ruled in favor of parents who wanted t...  \n",
            "38765  Robert De Niro only needed two words to introd...  \n",
            "38863  A judge ruled in favor of parents who wanted t...  \n",
            "\n",
            "[499 rows x 16 columns]\n"
          ]
        }
      ],
      "source": [
        "#gb_vdo_df[gb_vdo_df.dislikes > gb_vdo_df.likes]\n",
        "dislikes_gt_likes = gb_vdo_df[gb_vdo_df['dislikes'] > gb_vdo_df['likes']] # got all df back\n",
        "\n",
        "#print(len(dislikes_gt_likes))\n",
        "dislikes_gt_likes_title = dislikes_gt_likes.title.nunique() # nunique นับจำนวนที่ค่าไม่ซ้ำ\n",
        "print(dislikes_gt_likes_title)"
      ]
    },
    {
      "cell_type": "markdown",
      "metadata": {
        "id": "oNxh-5CL0TGk"
      },
      "source": [
        "## How many VDO that are trending on 22 Jan 2018 with comments more than 10,000 comments?"
      ]
    },
    {
      "cell_type": "markdown",
      "source": [
        "\n",
        "\n",
        "---\n",
        "\n"
      ],
      "metadata": {
        "id": "5YHCqZdlSIJh"
      }
    },
    {
      "cell_type": "code",
      "execution_count": null,
      "metadata": {
        "id": "07-y5sNw0TGl",
        "colab": {
          "base_uri": "https://localhost:8080/"
        },
        "outputId": "90c8aca1-6f9b-4fd7-b1dd-46b3a453c80d"
      },
      "outputs": [
        {
          "output_type": "stream",
          "name": "stdout",
          "text": [
            "The number of videos trending on 2018-01-22 with more than 10,000 comments is: 28\n"
          ]
        }
      ],
      "source": [
        "import pandas as pd\n",
        "\n",
        "# Assuming gb_vdo_df is your DataFrame\n",
        "# Convert 'trending_date' to datetime format\n",
        "gb_vdo_df['trending_date'] = pd.to_datetime(gb_vdo_df['trending_date'], format='%y.%d.%m')\n",
        "\n",
        "# Filter the DataFrame for videos trending on 22 Jan 2018\n",
        "selected_date = '2018-01-22'\n",
        "filtered_df = gb_vdo_df[gb_vdo_df['trending_date'] == selected_date]\n",
        "\n",
        "# Filter further for videos with more than 10,000 comments\n",
        "result_df = filtered_df[filtered_df['comment_count'] > 10000]\n",
        "\n",
        "# Get the count of videos\n",
        "number_of_videos = len(result_df)\n",
        "\n",
        "print(f'The number of videos trending on {selected_date} with more than 10,000 comments is: {number_of_videos}')\n",
        "\n",
        "\n"
      ]
    },
    {
      "cell_type": "markdown",
      "metadata": {
        "id": "jnBQwfD70TGl"
      },
      "source": [
        "## Which date that has the minimum average number of comments per VDO?"
      ]
    },
    {
      "cell_type": "code",
      "execution_count": null,
      "metadata": {
        "id": "KIDZyavc0TGl",
        "colab": {
          "base_uri": "https://localhost:8080/"
        },
        "outputId": "3da33867-ce60-4cf8-a7c1-03a5d2529aeb"
      },
      "outputs": [
        {
          "output_type": "stream",
          "name": "stdout",
          "text": [
            "2017-11-15 00:00:00\n"
          ]
        }
      ],
      "source": [
        "\n",
        "import pandas as pd\n",
        "\n",
        "# Assuming gb_vdo_df is your DataFrame\n",
        "# Convert 'trending_date' to datetime format\n",
        "gb_vdo_df['trending_date'] = pd.to_datetime(gb_vdo_df['trending_date'], format='%y.%d.%m')\n",
        "\n",
        "# Group by 'trending_date' and calculate the average number of comments per video\n",
        "avg_comments_per_date = gb_vdo_df.groupby('trending_date')['comment_count'].mean()\n",
        "\n",
        "\n",
        "# Find the date with the minimum average comments without using idxmin\n",
        "min_avg_date = avg_comments_per_date[avg_comments_per_date == avg_comments_per_date.min()].index[0]\n",
        "\n",
        "print(min_avg_date)\n",
        "# Get the minimum average number of comments\n",
        "min_avg_comments = avg_comments_per_date.min()\n",
        "\n",
        "#print(f'The date with the minimum average number of comments per video is {min_avg_date} with an average of {min_avg_comments:.2f} comments.')\n"
      ]
    },
    {
      "cell_type": "markdown",
      "metadata": {
        "id": "wL7iTiic0TGl"
      },
      "source": [
        "## Compare \"Sports\" and \"Comady\", how many days that there are more total daily views of VDO in \"Sports\" category than in \"Comady\" category?"
      ]
    },
    {
      "cell_type": "code",
      "execution_count": null,
      "metadata": {
        "id": "UIzvYqdA0TGm",
        "colab": {
          "base_uri": "https://localhost:8080/"
        },
        "outputId": "b8610487-27e8-47ee-db84-5167a1fd2f65"
      },
      "outputs": [
        {
          "output_type": "execute_result",
          "data": {
            "text/plain": [
              "[(1, 'Film & Animation'),\n",
              " (2, 'Autos & Vehicles'),\n",
              " (10, 'Music'),\n",
              " (15, 'Pets & Animals'),\n",
              " (17, 'Sports'),\n",
              " (18, 'Short Movies'),\n",
              " (19, 'Travel & Events'),\n",
              " (20, 'Gaming'),\n",
              " (21, 'Videoblogging'),\n",
              " (22, 'People & Blogs'),\n",
              " (23, 'Comedy'),\n",
              " (24, 'Entertainment'),\n",
              " (25, 'News & Politics'),\n",
              " (26, 'Howto & Style'),\n",
              " (27, 'Education'),\n",
              " (28, 'Science & Technology'),\n",
              " (29, 'Nonprofits & Activism'),\n",
              " (30, 'Movies'),\n",
              " (31, 'Anime/Animation'),\n",
              " (32, 'Action/Adventure'),\n",
              " (33, 'Classics'),\n",
              " (34, 'Comedy'),\n",
              " (35, 'Documentary'),\n",
              " (36, 'Drama'),\n",
              " (37, 'Family'),\n",
              " (38, 'Foreign'),\n",
              " (39, 'Horror'),\n",
              " (40, 'Sci-Fi/Fantasy'),\n",
              " (41, 'Thriller'),\n",
              " (42, 'Shorts'),\n",
              " (43, 'Shows'),\n",
              " (44, 'Trailers')]"
            ]
          },
          "metadata": {},
          "execution_count": 13
        }
      ],
      "source": [
        "import json\n",
        "\n",
        "with open('data/US_category_id.json') as fd:\n",
        "    cat = json.load(fd)\n",
        "\n",
        "#cat\n",
        "\n",
        "cat_list = []\n",
        "for d in cat['items']:\n",
        "    cat_list.append((int(d['id']), d['snippet']['title']))\n",
        "\n",
        "#cat_list"
      ]
    },
    {
      "cell_type": "code",
      "source": [
        "# create new df using US_cate table\n",
        "cat_df = pd.DataFrame(cat_list, columns=['id', 'category']) # ตั้งชื่อ col ให้ new table name : id , category\n",
        "#cat_df\n",
        "\n",
        "# merge table gb_vdo and cat_df\n",
        "vdo_df_withcat = gb_vdo_df.merge(cat_df, left_on='category_id', right_on='id')\n",
        "\n",
        "#vdo_df_withcat.columns\n",
        "\n",
        "\n",
        "# Step 1: Convert 'trending_date' to datetime type\n",
        "vdo_df_withcat['trending_date'] = pd.to_datetime(vdo_df_withcat['trending_date'], format='%y.%d.%m')\n",
        "\n",
        "# Step 2: Create separate DataFrames for \"Sports\" and \"Comedy\"\n",
        "sports_df = vdo_df_withcat[vdo_df_withcat['category'] == 'Sports']\n",
        "comedy_df = vdo_df_withcat[vdo_df_withcat['category'] == 'Comedy']\n",
        "\n",
        "# Step 3: Group by 'trending_date' and sum 'views'\n",
        "sports_daily_views = sports_df.groupby('trending_date')['views'].sum()\n",
        "comedy_daily_views = comedy_df.groupby('trending_date')['views'].sum()\n",
        "\n",
        "# Step 4: Compare total daily views for each category\n",
        "days_more_views_sports = (sports_daily_views > comedy_daily_views).sum()\n",
        "\n",
        "print(f\"Number of days with more total daily views in 'Sports' than in 'Comedy': {days_more_views_sports}\")\n"
      ],
      "metadata": {
        "colab": {
          "base_uri": "https://localhost:8080/"
        },
        "id": "ufbMekAut-jr",
        "outputId": "8a1887bf-014f-4b3a-c11e-c92fbff6e010"
      },
      "execution_count": null,
      "outputs": [
        {
          "output_type": "stream",
          "name": "stdout",
          "text": [
            "Number of days with more total daily views in 'Sports' than in 'Comedy': 49\n"
          ]
        }
      ]
    }
  ],
  "metadata": {
    "colab": {
      "provenance": []
    },
    "kernelspec": {
      "display_name": "Python 3 (ipykernel)",
      "language": "python",
      "name": "python3"
    },
    "language_info": {
      "codemirror_mode": {
        "name": "ipython",
        "version": 3
      },
      "file_extension": ".py",
      "mimetype": "text/x-python",
      "name": "python",
      "nbconvert_exporter": "python",
      "pygments_lexer": "ipython3",
      "version": "3.9.13"
    },
    "toc": {
      "base_numbering": 1,
      "nav_menu": {},
      "number_sections": true,
      "sideBar": true,
      "skip_h1_title": false,
      "title_cell": "Table of Contents",
      "title_sidebar": "Contents",
      "toc_cell": false,
      "toc_position": {},
      "toc_section_display": true,
      "toc_window_display": false
    },
    "varInspector": {
      "cols": {
        "lenName": 16,
        "lenType": 16,
        "lenVar": 40
      },
      "kernels_config": {
        "python": {
          "delete_cmd_postfix": "",
          "delete_cmd_prefix": "del ",
          "library": "var_list.py",
          "varRefreshCmd": "print(var_dic_list())"
        },
        "r": {
          "delete_cmd_postfix": ") ",
          "delete_cmd_prefix": "rm(",
          "library": "var_list.r",
          "varRefreshCmd": "cat(var_dic_list()) "
        }
      },
      "types_to_exclude": [
        "module",
        "function",
        "builtin_function_or_method",
        "instance",
        "_Feature"
      ],
      "window_display": false
    }
  },
  "nbformat": 4,
  "nbformat_minor": 0
}