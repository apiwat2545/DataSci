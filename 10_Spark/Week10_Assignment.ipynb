{
  "cells": [
    {
      "cell_type": "markdown",
      "metadata": {
        "id": "vVW4zRScmRxY"
      },
      "source": [
        "# Spark Preparation\n",
        "We check if we are in Google Colab.  If this is the case, install all necessary packages.\n",
        "\n",
        "To run spark in Colab, we need to first install all the dependencies in Colab environment i.e. Apache Spark 3.3.2 with hadoop 3.3, Java 8 and Findspark to locate the spark in the system. The tools installation can be carried out inside the Jupyter Notebook of the Colab.\n",
        "Learn more from [A Must-Read Guide on How to Work with PySpark on Google Colab for Data Scientists!](https://www.analyticsvidhya.com/blog/2020/11/a-must-read-guide-on-how-to-work-with-pyspark-on-google-colab-for-data-scientists/)"
      ]
    },
    {
      "cell_type": "code",
      "execution_count": 55,
      "metadata": {
        "id": "loJSONnsmRxe"
      },
      "outputs": [],
      "source": [
        "try:\n",
        "  import google.colab\n",
        "  IN_COLAB = True\n",
        "except:\n",
        "  IN_COLAB = False"
      ]
    },
    {
      "cell_type": "code",
      "execution_count": 56,
      "metadata": {
        "id": "9EbqVno6mRxh"
      },
      "outputs": [],
      "source": [
        "if IN_COLAB:\n",
        "    !apt-get install openjdk-8-jdk-headless -qq > /dev/null\n",
        "    !wget -q https://dlcdn.apache.org/spark/spark-3.5.1/spark-3.5.1-bin-hadoop3.tgz\n",
        "    !tar xf spark-3.5.1-bin-hadoop3.tgz\n",
        "    !mv spark-3.5.1-bin-hadoop3 spark\n",
        "    !pip install -q findspark\n",
        "    import os\n",
        "    os.environ[\"JAVA_HOME\"] = \"/usr/lib/jvm/java-8-openjdk-amd64\"\n",
        "    os.environ[\"SPARK_HOME\"] = \"/content/spark\""
      ]
    },
    {
      "cell_type": "markdown",
      "metadata": {
        "id": "AsB74EhEmRxh"
      },
      "source": [
        "# Start a Local Cluster"
      ]
    },
    {
      "cell_type": "code",
      "execution_count": 57,
      "metadata": {
        "id": "JbVO7DplmRxi"
      },
      "outputs": [],
      "source": [
        "import findspark\n",
        "findspark.init()\n",
        "spark_url = 'local'\n",
        "\n",
        "from pyspark.sql import SparkSession\n",
        "spark = SparkSession.builder\\\n",
        "        .master(spark_url)\\\n",
        "        .appName('Spark ML')\\\n",
        "        .getOrCreate()"
      ]
    },
    {
      "cell_type": "markdown",
      "metadata": {
        "id": "xHNJANrTmRxi"
      },
      "source": [
        "# Spark Assignment\n",
        "\n",
        "Based on the movie review dataset in 'netflix-rotten-tomatoes-metacritic-imdb.csv', answer the below questions.\n",
        "\n",
        "**Note:** do not clean or remove missing data"
      ]
    },
    {
      "cell_type": "code",
      "source": [
        "import urllib.request\n",
        "\n",
        "url = \"https://raw.githubusercontent.com/pvateekul/2110446_DSDE_2023s2/main/code/Week10_Spark/netflix-rotten-tomatoes-metacritic-imdb.csv\"\n",
        "filename = \"netflix-rotten-tomatoes-metacritic-imdb.csv\"\n",
        "\n",
        "# Download the file from the URL\n",
        "urllib.request.urlretrieve(url, filename)\n",
        "df = spark.read.option(\"delimiter\", \",\").option(\"header\", True).csv(filename)"
      ],
      "metadata": {
        "id": "t7pzuLtMqBZl"
      },
      "execution_count": 58,
      "outputs": []
    },
    {
      "cell_type": "code",
      "source": [
        "df.show(10)"
      ],
      "metadata": {
        "colab": {
          "base_uri": "https://localhost:8080/"
        },
        "id": "eYroCnysoL3d",
        "outputId": "df099bec-b283-49bc-d417-74dbda8ed87f"
      },
      "execution_count": 59,
      "outputs": [
        {
          "output_type": "stream",
          "name": "stdout",
          "text": [
            "+-------------------+--------------------+--------------------+--------------------+---------------+----------------+--------------------+------------+---------------+--------------------+--------------------+-----------+----------+---------------------+----------------+---------------+--------------------+----------+------------+--------------------+--------------------+--------------------+--------------------+--------------------+----------+--------------------+--------------------+--------------------+------------+\n",
            "|              Title|               Genre|                Tags|           Languages|Series or Movie|Hidden Gem Score|Country Availability|     Runtime|       Director|              Writer|              Actors|View Rating|IMDb Score|Rotten Tomatoes Score|Metacritic Score|Awards Received|Awards Nominated For| Boxoffice|Release Date|Netflix Release Date|    Production House|        Netflix Link|           IMDb Link|             Summary|IMDb Votes|               Image|              Poster|        TMDb Trailer|Trailer Site|\n",
            "+-------------------+--------------------+--------------------+--------------------+---------------+----------------+--------------------+------------+---------------+--------------------+--------------------+-----------+----------+---------------------+----------------+---------------+--------------------+----------+------------+--------------------+--------------------+--------------------+--------------------+--------------------+----------+--------------------+--------------------+--------------------+------------+\n",
            "|   Lets Fight Ghost|Crime, Drama, Fan...|Comedy Programmes...|    Swedish, Spanish|         Series|             4.3|            Thailand|< 30 minutes|Tomas Alfredson|John Ajvide Lindq...|Kåre Hedebrant, P...|          R|       7.9|                 98.0|            82.0|           74.0|                57.0|$2,122,065| 12 Dec 2008|          2021-03-04|Canal+, Sandrew M...|https://www.netfl...|https://www.imdb....|A med student wit...|  205926.0|https://occ-0-470...|https://m.media-a...|                NULL|        NULL|\n",
            "|HOW TO BUILD A GIRL|              Comedy|Dramas,Comedies,F...|             English|          Movie|             7.0|              Canada|    1-2 hour|  Coky Giedroyc|       Caitlin Moran|Paddy Considine, ...|          R|       5.8|                 79.0|            69.0|            1.0|                NULL|   $70,632| 08 May 2020|          2021-03-04|Film 4, Monumenta...|https://www.netfl...|https://www.imdb....|When nerdy Johann...|    2838.0|https://occ-0-108...|https://m.media-a...|https://www.youtu...|     YouTube|\n",
            "|         Centigrade|     Drama, Thriller|           Thrillers|             English|          Movie|             6.4|              Canada|    1-2 hour|  Brendan Walsh|Brendan Walsh, Da...|Genesis Rodriguez...|    Unrated|       4.3|                 NULL|            46.0|           NULL|                NULL|   $16,263| 28 Aug 2020|          2021-03-04|                NULL|https://www.netfl...|https://www.imdb....|Trapped in a froz...|    1720.0|https://occ-0-108...|https://m.media-a...|https://www.youtu...|     YouTube|\n",
            "|              ANNE+|               Drama|TV Dramas,Romanti...|             Turkish|         Series|             7.7| Belgium,Netherlands|< 30 minutes|           NULL|                NULL|Vahide Perçin, Go...|       NULL|       6.5|                 NULL|            NULL|            1.0|                NULL|      NULL| 01 Oct 2016|          2021-03-04|                NULL|https://www.netfl...|https://www.imdb....|Upon moving into ...|    1147.0|https://occ-0-148...|https://m.media-a...|                NULL|        NULL|\n",
            "|              Moxie|Animation, Short,...|Social Issue Dram...|             English|          Movie|             8.1|Lithuania,Poland,...|    1-2 hour|  Stephen Irwin|                NULL|        Ragga Gudrun|       NULL|       6.3|                 NULL|            NULL|           NULL|                 4.0|      NULL| 22 Sep 2011|          2021-03-04|                NULL|https://www.netfl...|https://www.imdb....|Inspired by her m...|      63.0|https://occ-0-403...|https://m.media-a...|                NULL|        NULL|\n",
            "|   The Con-Heartist|     Comedy, Romance|Romantic Comedies...|                Thai|          Movie|             8.6|            Thailand|     > 2 hrs|  Mez Tharatorn|Pattaranad Bhiboo...|Thiti Mahayotaruk...|       NULL|       7.4|                 NULL|            NULL|           NULL|                NULL|      NULL| 03 Dec 2020|          2021-03-03|                NULL|https://www.netfl...|https://www.imdb....|After her ex-boyf...|     131.0|https://occ-0-218...|https://m.media-a...|https://www.youtu...|     YouTube|\n",
            "|       Gleboka woda|               Drama|TV Dramas,Polish ...|              Polish|         Series|             8.7|              Poland|< 30 minutes|           NULL|                NULL|Marcin Dorocinski...|       NULL|       7.5|                 NULL|            NULL|            2.0|                 4.0|      NULL| 14 Jun 2011|          2021-03-03|                NULL|https://www.netfl...|https://www.imdb....|A group of social...|      47.0|https://occ-0-250...|https://m.media-a...|                NULL|        NULL|\n",
            "|           Instynkt|               Crime|TV Dramas,Crime T...|              Polish|         Series|             6.9|              Poland|< 30 minutes|           NULL|                NULL|Pawel Królikowski...|       NULL|       3.9|                 NULL|            NULL|           NULL|                NULL|      NULL| 03 Mar 2011|          2021-03-03|                NULL|https://www.netfl...|https://www.imdb....|An enigmatic comm...|     107.0|https://occ-0-250...|https://m.media-a...|                NULL|        NULL|\n",
            "|      Only a Mother|               Drama|Social Issue Dram...|             Swedish|          Movie|             8.3|Lithuania,Poland,...|    1-2 hour|    Alf Sjöberg|   Ivar Lo-Johansson|Ulf Palme, Ragnar...|       NULL|       6.7|                 NULL|            NULL|            2.0|                 1.0|      NULL| 31 Oct 1949|          2021-03-03|                NULL|https://www.netfl...|https://www.imdb....|An unhappily marr...|      88.0|https://occ-0-285...|https://m.media-a...|                NULL|        NULL|\n",
            "|         Snowroller|              Comedy|Sports Movies,Spo...|Swedish, English,...|          Movie|             5.3|Lithuania,Poland,...|    1-2 hour|    Lasse Åberg|Lasse Åberg, Bo J...|Jon Skolmen, Ceci...|       NULL|       6.6|                 NULL|            NULL|           NULL|                NULL|      NULL| 04 Oct 1985|          2021-03-03|                NULL|https://www.netfl...|https://www.imdb....|Two friends take ...|    5926.0|https://occ-0-285...|https://m.media-a...|                NULL|        NULL|\n",
            "+-------------------+--------------------+--------------------+--------------------+---------------+----------------+--------------------+------------+---------------+--------------------+--------------------+-----------+----------+---------------------+----------------+---------------+--------------------+----------+------------+--------------------+--------------------+--------------------+--------------------+--------------------+----------+--------------------+--------------------+--------------------+------------+\n",
            "only showing top 10 rows\n",
            "\n"
          ]
        }
      ]
    },
    {
      "cell_type": "code",
      "source": [
        "df.columns"
      ],
      "metadata": {
        "colab": {
          "base_uri": "https://localhost:8080/"
        },
        "id": "jN94PX9nr6y1",
        "outputId": "a0663524-14fc-456d-bfdc-bdaa513814e8"
      },
      "execution_count": 60,
      "outputs": [
        {
          "output_type": "execute_result",
          "data": {
            "text/plain": [
              "['Title',\n",
              " 'Genre',\n",
              " 'Tags',\n",
              " 'Languages',\n",
              " 'Series or Movie',\n",
              " 'Hidden Gem Score',\n",
              " 'Country Availability',\n",
              " 'Runtime',\n",
              " 'Director',\n",
              " 'Writer',\n",
              " 'Actors',\n",
              " 'View Rating',\n",
              " 'IMDb Score',\n",
              " 'Rotten Tomatoes Score',\n",
              " 'Metacritic Score',\n",
              " 'Awards Received',\n",
              " 'Awards Nominated For',\n",
              " 'Boxoffice',\n",
              " 'Release Date',\n",
              " 'Netflix Release Date',\n",
              " 'Production House',\n",
              " 'Netflix Link',\n",
              " 'IMDb Link',\n",
              " 'Summary',\n",
              " 'IMDb Votes',\n",
              " 'Image',\n",
              " 'Poster',\n",
              " 'TMDb Trailer',\n",
              " 'Trailer Site']"
            ]
          },
          "metadata": {},
          "execution_count": 60
        }
      ]
    },
    {
      "cell_type": "code",
      "source": [
        "cols = [c.replace(' ','_') for c in df.columns]\n",
        "df = df.toDF(*cols)\n",
        "df.columns"
      ],
      "metadata": {
        "colab": {
          "base_uri": "https://localhost:8080/"
        },
        "id": "quS7IeD5sT-v",
        "outputId": "a666eb40-b340-422a-f7f6-b04cbc1f540d"
      },
      "execution_count": 61,
      "outputs": [
        {
          "output_type": "execute_result",
          "data": {
            "text/plain": [
              "['Title',\n",
              " 'Genre',\n",
              " 'Tags',\n",
              " 'Languages',\n",
              " 'Series_or_Movie',\n",
              " 'Hidden_Gem_Score',\n",
              " 'Country_Availability',\n",
              " 'Runtime',\n",
              " 'Director',\n",
              " 'Writer',\n",
              " 'Actors',\n",
              " 'View_Rating',\n",
              " 'IMDb_Score',\n",
              " 'Rotten_Tomatoes_Score',\n",
              " 'Metacritic_Score',\n",
              " 'Awards_Received',\n",
              " 'Awards_Nominated_For',\n",
              " 'Boxoffice',\n",
              " 'Release_Date',\n",
              " 'Netflix_Release_Date',\n",
              " 'Production_House',\n",
              " 'Netflix_Link',\n",
              " 'IMDb_Link',\n",
              " 'Summary',\n",
              " 'IMDb_Votes',\n",
              " 'Image',\n",
              " 'Poster',\n",
              " 'TMDb_Trailer',\n",
              " 'Trailer_Site']"
            ]
          },
          "metadata": {},
          "execution_count": 61
        }
      ]
    },
    {
      "cell_type": "code",
      "source": [
        "from pyspark.sql.functions import col\n",
        "cols = ['Awards_Received', 'Awards_Nominated_For', 'IMDb_Votes']\n",
        "for c in cols:\n",
        "    df = df.withColumn(c, col(c).cast('int'))\n",
        "cols = ['Hidden_Gem_Score', 'IMDb_Score', 'Rotten_Tomatoes_Score', 'Metacritic_Score']\n",
        "for c in cols:\n",
        "    df = df.withColumn(c, col(c).cast('double'))"
      ],
      "metadata": {
        "id": "U0wLWU6QtRIn"
      },
      "execution_count": 62,
      "outputs": []
    },
    {
      "cell_type": "code",
      "source": [
        "df.printSchema()"
      ],
      "metadata": {
        "colab": {
          "base_uri": "https://localhost:8080/"
        },
        "id": "QyaPnP5VsyqZ",
        "outputId": "d75ad0bc-8cf1-4f36-a963-54c9ad91fe2c"
      },
      "execution_count": 63,
      "outputs": [
        {
          "output_type": "stream",
          "name": "stdout",
          "text": [
            "root\n",
            " |-- Title: string (nullable = true)\n",
            " |-- Genre: string (nullable = true)\n",
            " |-- Tags: string (nullable = true)\n",
            " |-- Languages: string (nullable = true)\n",
            " |-- Series_or_Movie: string (nullable = true)\n",
            " |-- Hidden_Gem_Score: double (nullable = true)\n",
            " |-- Country_Availability: string (nullable = true)\n",
            " |-- Runtime: string (nullable = true)\n",
            " |-- Director: string (nullable = true)\n",
            " |-- Writer: string (nullable = true)\n",
            " |-- Actors: string (nullable = true)\n",
            " |-- View_Rating: string (nullable = true)\n",
            " |-- IMDb_Score: double (nullable = true)\n",
            " |-- Rotten_Tomatoes_Score: double (nullable = true)\n",
            " |-- Metacritic_Score: double (nullable = true)\n",
            " |-- Awards_Received: integer (nullable = true)\n",
            " |-- Awards_Nominated_For: integer (nullable = true)\n",
            " |-- Boxoffice: string (nullable = true)\n",
            " |-- Release_Date: string (nullable = true)\n",
            " |-- Netflix_Release_Date: string (nullable = true)\n",
            " |-- Production_House: string (nullable = true)\n",
            " |-- Netflix_Link: string (nullable = true)\n",
            " |-- IMDb_Link: string (nullable = true)\n",
            " |-- Summary: string (nullable = true)\n",
            " |-- IMDb_Votes: integer (nullable = true)\n",
            " |-- Image: string (nullable = true)\n",
            " |-- Poster: string (nullable = true)\n",
            " |-- TMDb_Trailer: string (nullable = true)\n",
            " |-- Trailer_Site: string (nullable = true)\n",
            "\n"
          ]
        }
      ]
    },
    {
      "cell_type": "markdown",
      "metadata": {
        "id": "PkxodDYFmRxj"
      },
      "source": [
        "## What is the maximum and average of the overall hidden gem score?"
      ]
    },
    {
      "cell_type": "code",
      "execution_count": 64,
      "metadata": {
        "colab": {
          "base_uri": "https://localhost:8080/"
        },
        "id": "T7905jq6mRxk",
        "outputId": "cba57294-2634-4f00-bc0d-1c8bea0f0450"
      },
      "outputs": [
        {
          "output_type": "stream",
          "name": "stdout",
          "text": [
            "+---------------------+---------------------+\n",
            "|avg(Hidden_Gem_Score)|max(Hidden_Gem_Score)|\n",
            "+---------------------+---------------------+\n",
            "|    5.937551386501226|                  9.8|\n",
            "+---------------------+---------------------+\n",
            "\n"
          ]
        }
      ],
      "source": [
        "from pyspark.sql.functions import avg, max\n",
        "df.select(avg('Hidden_Gem_Score'), max('Hidden_Gem_Score')).show()"
      ]
    },
    {
      "cell_type": "markdown",
      "metadata": {
        "id": "TgU-l244mRxk"
      },
      "source": [
        "## How many movies that are available in Korea?"
      ]
    },
    {
      "cell_type": "code",
      "source": [
        "rows = df.collect()\n",
        "row_5_country_availability = rows[4]['Country_Availability']\n",
        "print(row_5_country_availability)"
      ],
      "metadata": {
        "colab": {
          "base_uri": "https://localhost:8080/"
        },
        "id": "UkDopdZ-wurv",
        "outputId": "ed23fd2d-3c28-452a-a8db-a50ea32b4805"
      },
      "execution_count": 65,
      "outputs": [
        {
          "output_type": "stream",
          "name": "stdout",
          "text": [
            "Lithuania,Poland,France,Iceland,Italy,Spain,Greece,Czech Republic,Belgium,Portugal,Canada,Hungary,Mexico,Slovakia,Sweden,South Africa,Netherlands,Germany,Thailand,Turkey,Singapore,Romania,Argentina,Israel,Switzerland,Australia,United Kingdom,Brazil,Malaysia,India,Colombia,Hong Kong,Japan,South Korea,United States,Russia\n"
          ]
        }
      ]
    },
    {
      "cell_type": "code",
      "execution_count": 66,
      "metadata": {
        "colab": {
          "base_uri": "https://localhost:8080/"
        },
        "id": "V76eCmlgmRxl",
        "outputId": "d0d2ba7a-50f3-4ed7-8594-5b1a0db8532b"
      },
      "outputs": [
        {
          "output_type": "stream",
          "name": "stdout",
          "text": [
            "4845\n",
            "+--------------------+\n",
            "|Country_Availability|\n",
            "+--------------------+\n",
            "|Lithuania,Poland,...|\n",
            "|         South Korea|\n",
            "|         South Korea|\n",
            "|Lithuania,Poland,...|\n",
            "|         South Korea|\n",
            "|         South Korea|\n",
            "|         South Korea|\n",
            "|         South Korea|\n",
            "|         South Korea|\n",
            "|         South Korea|\n",
            "+--------------------+\n",
            "only showing top 10 rows\n",
            "\n"
          ]
        }
      ],
      "source": [
        "from pyspark.sql.functions import col\n",
        "\n",
        "df_korea = df.filter(col('Country_Availability').contains('Korea'))\n",
        "count_korea = df_korea.count()\n",
        "print(count_korea)\n",
        "df_korea.select('Country_Availability').show(10)"
      ]
    },
    {
      "cell_type": "markdown",
      "metadata": {
        "id": "VDraaUm9mRxl"
      },
      "source": [
        "## Which director has the highest average hidden gem score?"
      ]
    },
    {
      "cell_type": "code",
      "execution_count": 67,
      "metadata": {
        "colab": {
          "base_uri": "https://localhost:8080/"
        },
        "id": "YZupE10zmRxl",
        "outputId": "a42c12f5-4443-458b-d0a3-1105af7c334b"
      },
      "outputs": [
        {
          "output_type": "stream",
          "name": "stdout",
          "text": [
            "+-----------+---------------------+\n",
            "|   Director|avg(Hidden_Gem_Score)|\n",
            "+-----------+---------------------+\n",
            "|Dorin Marcu|                  9.8|\n",
            "+-----------+---------------------+\n",
            "\n"
          ]
        }
      ],
      "source": [
        "df_director_score = df.groupby('Director').agg({'Hidden_Gem_Score': 'avg'})\n",
        "\n",
        "max_score = df_director_score.agg(max('avg(Hidden_Gem_Score)')).collect()[0][0]\n",
        "df_max_director = df_director_score.where(df_director_score['avg(Hidden_Gem_Score)'] == max_score)\n",
        "\n",
        "df_max_director.show()"
      ]
    },
    {
      "cell_type": "code",
      "source": [
        "# Filter the DataFrame for rows where the 'Director' is 'Dorin Marcu'\n",
        "df_director = df.filter(df['Director'] == 'Dorin Marcu')\n",
        "df_score = df_director.select('Hidden_Gem_Score')\n",
        "df_score.show()"
      ],
      "metadata": {
        "colab": {
          "base_uri": "https://localhost:8080/"
        },
        "id": "eoqO6Lcu1I-Z",
        "outputId": "53c944f3-7024-44b4-875a-d7106c4bab71"
      },
      "execution_count": 69,
      "outputs": [
        {
          "output_type": "stream",
          "name": "stdout",
          "text": [
            "+----------------+\n",
            "|Hidden_Gem_Score|\n",
            "+----------------+\n",
            "|             9.8|\n",
            "|             9.8|\n",
            "+----------------+\n",
            "\n"
          ]
        }
      ]
    },
    {
      "cell_type": "markdown",
      "metadata": {
        "id": "aHsr4GBRmRxm"
      },
      "source": [
        "## How many genres are there in the dataset?"
      ]
    },
    {
      "cell_type": "code",
      "execution_count": 68,
      "metadata": {
        "colab": {
          "base_uri": "https://localhost:8080/"
        },
        "id": "7IfZICtAmRxm",
        "outputId": "e9af6ed0-3735-4fc3-a979-0d3507bdac0f"
      },
      "outputs": [
        {
          "output_type": "stream",
          "name": "stdout",
          "text": [
            "28\n",
            "+-----------+\n",
            "|      Genre|\n",
            "+-----------+\n",
            "|      Crime|\n",
            "|    Romance|\n",
            "|   Thriller|\n",
            "|  Adventure|\n",
            "|      Drama|\n",
            "|        War|\n",
            "|Documentary|\n",
            "| Reality-TV|\n",
            "|     Family|\n",
            "|    Fantasy|\n",
            "|  Game-Show|\n",
            "|      Adult|\n",
            "|    History|\n",
            "|    Mystery|\n",
            "|    Musical|\n",
            "|  Animation|\n",
            "|      Music|\n",
            "|  Film-Noir|\n",
            "|     Horror|\n",
            "|      Short|\n",
            "+-----------+\n",
            "only showing top 20 rows\n",
            "\n"
          ]
        }
      ],
      "source": [
        "from pyspark.sql.functions import split, explode\n",
        "\n",
        "df = df.withColumn('Genre', split(df['Genre'], ', '))\n",
        "df = df.withColumn('Genre', explode(df['Genre']))\n",
        "distinct_genre_count = df.select('Genre').distinct().count()\n",
        "print(distinct_genre_count)\n",
        "df.select('Genre').distinct().show()"
      ]
    }
  ],
  "metadata": {
    "kernelspec": {
      "display_name": "Python 3 (ipykernel)",
      "language": "python",
      "name": "python3"
    },
    "language_info": {
      "codemirror_mode": {
        "name": "ipython",
        "version": 3
      },
      "file_extension": ".py",
      "mimetype": "text/x-python",
      "name": "python",
      "nbconvert_exporter": "python",
      "pygments_lexer": "ipython3",
      "version": "3.9.13"
    },
    "toc": {
      "base_numbering": 1,
      "nav_menu": {},
      "number_sections": true,
      "sideBar": true,
      "skip_h1_title": false,
      "title_cell": "Table of Contents",
      "title_sidebar": "Contents",
      "toc_cell": false,
      "toc_position": {},
      "toc_section_display": true,
      "toc_window_display": false
    },
    "varInspector": {
      "cols": {
        "lenName": 16,
        "lenType": 16,
        "lenVar": 40
      },
      "kernels_config": {
        "python": {
          "delete_cmd_postfix": "",
          "delete_cmd_prefix": "del ",
          "library": "var_list.py",
          "varRefreshCmd": "print(var_dic_list())"
        },
        "r": {
          "delete_cmd_postfix": ") ",
          "delete_cmd_prefix": "rm(",
          "library": "var_list.r",
          "varRefreshCmd": "cat(var_dic_list()) "
        }
      },
      "types_to_exclude": [
        "module",
        "function",
        "builtin_function_or_method",
        "instance",
        "_Feature"
      ],
      "window_display": false
    },
    "colab": {
      "provenance": []
    }
  },
  "nbformat": 4,
  "nbformat_minor": 0
}