{
  "cells": [
    {
      "cell_type": "code",
      "execution_count": 22,
      "metadata": {
        "colab": {
          "base_uri": "https://localhost:8080/"
        },
        "id": "Ph3ifBCkNFKl",
        "outputId": "5b3909d0-c475-4966-bd5e-14aa10c832f3"
      },
      "outputs": [
        {
          "output_type": "stream",
          "name": "stdout",
          "text": [
            "Requirement already satisfied: kafka-python in /usr/local/lib/python3.10/dist-packages (2.0.2)\n",
            "Requirement already satisfied: avro-python3 in /usr/local/lib/python3.10/dist-packages (1.10.2)\n"
          ]
        }
      ],
      "source": [
        "!pip install kafka-python\n",
        "!pip install avro-python3"
      ],
      "id": "Ph3ifBCkNFKl"
    },
    {
      "cell_type": "code",
      "execution_count": 23,
      "metadata": {
        "id": "3d144bf2"
      },
      "outputs": [],
      "source": [
        "# import required libraries\n",
        "from kafka import KafkaConsumer, KafkaProducer\n",
        "import avro.schema\n",
        "import avro.io\n",
        "import io\n",
        "import hashlib, json"
      ],
      "id": "3d144bf2"
    },
    {
      "cell_type": "code",
      "execution_count": 24,
      "metadata": {
        "id": "6234ffde"
      },
      "outputs": [],
      "source": [
        "def serialize(schema, obj):\n",
        "    bytes_writer = io.BytesIO()\n",
        "    encoder = avro.io.BinaryEncoder(bytes_writer)\n",
        "    writer = avro.io.DatumWriter(schema)\n",
        "    writer.write(obj, encoder)\n",
        "    return bytes_writer.getvalue()"
      ],
      "id": "6234ffde"
    },
    {
      "cell_type": "code",
      "execution_count": 25,
      "metadata": {
        "id": "5e1434bb"
      },
      "outputs": [],
      "source": [
        "def deserialize(schema, raw_bytes):\n",
        "    bytes_reader = io.BytesIO(raw_bytes)\n",
        "    decoder = avro.io.BinaryDecoder(bytes_reader)\n",
        "    reader = avro.io.DatumReader(schema)\n",
        "    return reader.read(decoder)"
      ],
      "id": "5e1434bb"
    },
    {
      "cell_type": "code",
      "execution_count": 26,
      "metadata": {
        "id": "0e92e3e9"
      },
      "outputs": [],
      "source": [
        "#note: you must have the following file in the same directory\n",
        "\n",
        "schema_file = 'transaction.avsc'\n",
        "txschema = avro.schema.parse(open(schema_file).read())\n",
        "schema_file = 'submit.avsc'\n",
        "submitschema = avro.schema.parse(open(schema_file).read())\n",
        "schema_file = 'result.avsc'\n",
        "resultschema = avro.schema.parse(open(schema_file).read())"
      ],
      "id": "0e92e3e9"
    },
    {
      "cell_type": "code",
      "execution_count": 27,
      "metadata": {
        "id": "bcb5dc21"
      },
      "outputs": [],
      "source": [
        "# Connect to kafka broker running in your local host (docker). Change this to your kafka broker if needed\n",
        "kafka_broker = 'lab.aimet.tech :9092'"
      ],
      "id": "bcb5dc21"
    },
    {
      "cell_type": "code",
      "execution_count": 28,
      "metadata": {
        "id": "0e05b4b0"
      },
      "outputs": [],
      "source": [
        "producer = KafkaProducer(bootstrap_servers=[kafka_broker])"
      ],
      "id": "0e05b4b0"
    },
    {
      "cell_type": "code",
      "execution_count": 29,
      "metadata": {
        "colab": {
          "base_uri": "https://localhost:8080/"
        },
        "id": "4a2555a3",
        "outputId": "48e0a418-9a14-44cd-a563-fbd223ee70cb"
      },
      "outputs": [
        {
          "output_type": "stream",
          "name": "stderr",
          "text": [
            "WARNING:kafka.coordinator.consumer:group_id is None: disabling auto-commit.\n",
            "WARNING:kafka.coordinator.consumer:group_id is None: disabling auto-commit.\n"
          ]
        }
      ],
      "source": [
        "txconsumer = KafkaConsumer(\n",
        "    'transaction',\n",
        "     bootstrap_servers=[kafka_broker],\n",
        "     enable_auto_commit=True,\n",
        "     value_deserializer=lambda x: deserialize(txschema, x))\n",
        "resultconsumer = KafkaConsumer(\n",
        "    'result',\n",
        "     bootstrap_servers=[kafka_broker],\n",
        "     enable_auto_commit=True,\n",
        "     value_deserializer=lambda x: deserialize(resultschema, x))"
      ],
      "id": "4a2555a3"
    },
    {
      "cell_type": "code",
      "execution_count": 30,
      "metadata": {
        "id": "fe697a88"
      },
      "outputs": [],
      "source": [
        "def gen_signature(txid, payer, payee, amount, token):\n",
        "    o = {'txid': txid, 'payer': payer, 'payee': payee, 'amount': amount, 'token': token}\n",
        "    return hashlib.md5(json.dumps(o, sort_keys=True).encode('utf-8')).hexdigest()"
      ],
      "id": "fe697a88"
    },
    {
      "cell_type": "code",
      "execution_count": 32,
      "metadata": {
        "colab": {
          "base_uri": "https://localhost:8080/"
        },
        "id": "b9915bcc",
        "outputId": "7febbad1-48e9-48c6-8ed1-0666036aad56"
      },
      "outputs": [
        {
          "output_type": "stream",
          "name": "stdout",
          "text": [
            "{'txid': 'TX08288', 'payer': 'A60228', 'payee': 'A35093', 'amount': 1552} TX08288 A60228 A35093 1552\n",
            "{'txid': 'TX01542', 'payer': 'A10275', 'payee': 'A17602', 'amount': 758} TX01542 A10275 A17602 758\n",
            "{'txid': 'TX01663', 'payer': 'A82882', 'payee': 'A41303', 'amount': 1877} TX01663 A82882 A41303 1877\n",
            "{'txid': 'TX07258', 'payer': 'A59857', 'payee': 'A49700', 'amount': 620} TX07258 A59857 A49700 620\n",
            "{'txid': 'TX03072', 'payer': 'A45162', 'payee': 'A66657', 'amount': 174} TX03072 A45162 A66657 174\n",
            "Timestamp: 1711116394\n",
            "VID: V298128\n",
            "TXID: TX08288\n",
            "Checksum: b9ab4879746a9fff4509c89572dd659f\n",
            "Timestamp: 1711116395\n",
            "VID: V298128\n",
            "TXID: TX01542\n",
            "Checksum: 6df33a9d8716ec47329f857d74fcd392\n",
            "Timestamp: 1711116396\n",
            "VID: V298128\n",
            "TXID: TX01663\n",
            "Checksum: cf82bdad448564962098dae1f9c54dcf\n",
            "Timestamp: 1711116397\n",
            "VID: V298128\n",
            "TXID: TX07258\n",
            "Checksum: c9f6a5092b688a2e17fe607850d90cf1\n",
            "Timestamp: 1711116398\n",
            "VID: V298128\n",
            "TXID: TX03072\n",
            "Checksum: b48e26284b39e6410ffff93378f592f3\n"
          ]
        }
      ],
      "source": [
        "# Main loop for processing transactions\n",
        "\n",
        "message_count_limit = 5\n",
        "message_count = 0\n",
        "result_message_count_limit = 5\n",
        "result_message_count = 0\n",
        "\n",
        "for message in txconsumer:\n",
        "    # Extract transaction information\n",
        "    tx_data = message.value\n",
        "    txid = tx_data['txid']\n",
        "    payer = tx_data['payer']\n",
        "    payee = tx_data['payee']\n",
        "    amount = tx_data['amount']\n",
        "    print(tx_data,txid,payer,payee,amount)\n",
        "    # Generate signature\n",
        "    signature = gen_signature(txid, payer, payee, amount, token=\"50e71bd809146c6c3b944ed9341346f9\")\n",
        "\n",
        "    # Prepare verification data\n",
        "    verification_data = {'vid': 'V298128', 'txid': txid, 'signature': signature}\n",
        "\n",
        "    # Serialize verification data\n",
        "    serialized_verification_data = serialize(submitschema, verification_data)\n",
        "\n",
        "    # Send verification data to 'submit' topic\n",
        "    producer.send('submit', value=serialized_verification_data)\n",
        "\n",
        "    message_count += 1\n",
        "    # Check if message count limit exceeded\n",
        "    if message_count >= message_count_limit:\n",
        "        break\n",
        "\n",
        "\n",
        "# Function to handle result messages\n",
        "def handle_result_message(result_message):\n",
        "    # Extract result information\n",
        "    result_data = result_message.value\n",
        "    timestamp = result_data['timestamp']\n",
        "    vid = result_data['vid']\n",
        "    txid = result_data['txid']\n",
        "    checksum = result_data['checksum']\n",
        "\n",
        "    # Print the result information\n",
        "    print(\"Timestamp:\", timestamp)\n",
        "    print(\"VID:\", vid)\n",
        "    print(\"TXID:\", txid)\n",
        "    print(\"Checksum:\", checksum)\n",
        "\n",
        "# Main loop for processing result messages\n",
        "for result_message in resultconsumer:\n",
        "    # Handle result message\n",
        "    handle_result_message(result_message)\n",
        "\n",
        "    result_message_count += 1\n",
        "    # Check if result_message count limit exceeded\n",
        "    if result_message_count >= result_message_count_limit:\n",
        "        break"
      ],
      "id": "b9915bcc"
    }
  ],
  "metadata": {
    "colab": {
      "provenance": []
    },
    "kernelspec": {
      "display_name": "Python 3 (ipykernel)",
      "language": "python",
      "name": "python3"
    },
    "language_info": {
      "codemirror_mode": {
        "name": "ipython",
        "version": 3
      },
      "file_extension": ".py",
      "mimetype": "text/x-python",
      "name": "python",
      "nbconvert_exporter": "python",
      "pygments_lexer": "ipython3",
      "version": "3.9.13"
    }
  },
  "nbformat": 4,
  "nbformat_minor": 5
}